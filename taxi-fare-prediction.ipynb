{
 "cells": [
  {
   "cell_type": "markdown",
   "id": "b51ed531",
   "metadata": {
    "papermill": {
     "duration": 0.005204,
     "end_time": "2025-07-26T17:03:05.595188",
     "exception": false,
     "start_time": "2025-07-26T17:03:05.589984",
     "status": "completed"
    },
    "tags": []
   },
   "source": [
    "# Predicting Taxi Fare with PySpark"
   ]
  },
  {
   "cell_type": "markdown",
   "id": "bcc89eaa",
   "metadata": {
    "papermill": {
     "duration": 0.004053,
     "end_time": "2025-07-26T17:03:05.604256",
     "exception": false,
     "start_time": "2025-07-26T17:03:05.600203",
     "status": "completed"
    },
    "tags": []
   },
   "source": [
    "# 1. Import Libraries"
   ]
  },
  {
   "cell_type": "code",
   "execution_count": 1,
   "id": "b453d552",
   "metadata": {
    "execution": {
     "iopub.execute_input": "2025-07-26T17:03:05.614544Z",
     "iopub.status.busy": "2025-07-26T17:03:05.614178Z",
     "iopub.status.idle": "2025-07-26T17:03:10.536533Z",
     "shell.execute_reply": "2025-07-26T17:03:10.535230Z"
    },
    "papermill": {
     "duration": 4.930762,
     "end_time": "2025-07-26T17:03:10.539264",
     "exception": false,
     "start_time": "2025-07-26T17:03:05.608502",
     "status": "completed"
    },
    "tags": []
   },
   "outputs": [
    {
     "name": "stdout",
     "output_type": "stream",
     "text": [
      "Requirement already satisfied: pyspark in /usr/local/lib/python3.11/dist-packages (3.5.1)\r\n",
      "Requirement already satisfied: py4j==0.10.9.7 in /usr/local/lib/python3.11/dist-packages (from pyspark) (0.10.9.7)\r\n"
     ]
    }
   ],
   "source": [
    "!pip install pyspark"
   ]
  },
  {
   "cell_type": "code",
   "execution_count": 2,
   "id": "72577ad7",
   "metadata": {
    "execution": {
     "iopub.execute_input": "2025-07-26T17:03:10.549676Z",
     "iopub.status.busy": "2025-07-26T17:03:10.549304Z",
     "iopub.status.idle": "2025-07-26T17:03:11.614793Z",
     "shell.execute_reply": "2025-07-26T17:03:11.613866Z"
    },
    "papermill": {
     "duration": 1.07272,
     "end_time": "2025-07-26T17:03:11.616611",
     "exception": false,
     "start_time": "2025-07-26T17:03:10.543891",
     "status": "completed"
    },
    "tags": []
   },
   "outputs": [],
   "source": [
    "import pyspark\n",
    "from pyspark.sql import SparkSession\n",
    "from pyspark.sql.functions import hour, dayofweek, month, col, when\n",
    "from pyspark.ml import Pipeline\n",
    "from pyspark.ml.feature import VectorAssembler, StringIndexer, StandardScaler\n",
    "from pyspark.ml.regression import LinearRegression\n",
    "from pyspark.ml.evaluation import RegressionEvaluator"
   ]
  },
  {
   "cell_type": "markdown",
   "id": "2aaf7b6c",
   "metadata": {
    "papermill": {
     "duration": 0.00461,
     "end_time": "2025-07-26T17:03:11.625792",
     "exception": false,
     "start_time": "2025-07-26T17:03:11.621182",
     "status": "completed"
    },
    "tags": []
   },
   "source": [
    "# 2. Understanding our data"
   ]
  },
  {
   "cell_type": "code",
   "execution_count": 3,
   "id": "954a7898",
   "metadata": {
    "execution": {
     "iopub.execute_input": "2025-07-26T17:03:11.635827Z",
     "iopub.status.busy": "2025-07-26T17:03:11.635295Z",
     "iopub.status.idle": "2025-07-26T17:06:06.263530Z",
     "shell.execute_reply": "2025-07-26T17:06:06.262017Z"
    },
    "papermill": {
     "duration": 174.635635,
     "end_time": "2025-07-26T17:06:06.265744",
     "exception": false,
     "start_time": "2025-07-26T17:03:11.630109",
     "status": "completed"
    },
    "tags": []
   },
   "outputs": [
    {
     "name": "stderr",
     "output_type": "stream",
     "text": [
      "Setting default log level to \"WARN\".\n",
      "To adjust logging level use sc.setLogLevel(newLevel). For SparkR, use setLogLevel(newLevel).\n",
      "25/07/26 17:03:15 WARN NativeCodeLoader: Unable to load native-hadoop library for your platform... using builtin-java classes where applicable\n",
      "                                                                                \r"
     ]
    }
   ],
   "source": [
    "# Initialize Spark Session\n",
    "spark = SparkSession.builder.appName('NYC-Yellow-Taxi-Trip').getOrCreate()\n",
    "\n",
    "# Change LogLevel to ERROR\n",
    "spark.sparkContext.setLogLevel(\"ERROR\")\n",
    "\n",
    "# Load CSV files into separate DataFrames\n",
    "df_2015_01 = spark.read.csv('/kaggle/input/nyc-yellow-taxi-trip-data/yellow_tripdata_2015-01.csv', header=True, inferSchema=True)\n",
    "df_2016_01 = spark.read.csv('/kaggle/input/nyc-yellow-taxi-trip-data/yellow_tripdata_2016-01.csv', header=True, inferSchema=True)\n",
    "df_2016_02 = spark.read.csv('/kaggle/input/nyc-yellow-taxi-trip-data/yellow_tripdata_2016-02.csv', header=True, inferSchema=True)\n",
    "df_2016_03 = spark.read.csv('/kaggle/input/nyc-yellow-taxi-trip-data/yellow_tripdata_2016-03.csv', header=True, inferSchema=True)\n",
    "\n",
    "# Combine all DataFrames into one\n",
    "df = df_2015_01.union(df_2016_01).union(df_2016_02).union(df_2016_03)"
   ]
  },
  {
   "cell_type": "code",
   "execution_count": 4,
   "id": "a0d4a41e",
   "metadata": {
    "execution": {
     "iopub.execute_input": "2025-07-26T17:06:06.279920Z",
     "iopub.status.busy": "2025-07-26T17:06:06.279548Z",
     "iopub.status.idle": "2025-07-26T17:06:06.287840Z",
     "shell.execute_reply": "2025-07-26T17:06:06.286686Z"
    },
    "papermill": {
     "duration": 0.017516,
     "end_time": "2025-07-26T17:06:06.289649",
     "exception": false,
     "start_time": "2025-07-26T17:06:06.272133",
     "status": "completed"
    },
    "tags": []
   },
   "outputs": [
    {
     "name": "stdout",
     "output_type": "stream",
     "text": [
      "root\n",
      " |-- VendorID: integer (nullable = true)\n",
      " |-- tpep_pickup_datetime: timestamp (nullable = true)\n",
      " |-- tpep_dropoff_datetime: timestamp (nullable = true)\n",
      " |-- passenger_count: integer (nullable = true)\n",
      " |-- trip_distance: double (nullable = true)\n",
      " |-- pickup_longitude: double (nullable = true)\n",
      " |-- pickup_latitude: double (nullable = true)\n",
      " |-- RateCodeID: integer (nullable = true)\n",
      " |-- store_and_fwd_flag: string (nullable = true)\n",
      " |-- dropoff_longitude: double (nullable = true)\n",
      " |-- dropoff_latitude: double (nullable = true)\n",
      " |-- payment_type: integer (nullable = true)\n",
      " |-- fare_amount: double (nullable = true)\n",
      " |-- extra: double (nullable = true)\n",
      " |-- mta_tax: double (nullable = true)\n",
      " |-- tip_amount: double (nullable = true)\n",
      " |-- tolls_amount: double (nullable = true)\n",
      " |-- improvement_surcharge: double (nullable = true)\n",
      " |-- total_amount: double (nullable = true)\n",
      "\n"
     ]
    }
   ],
   "source": [
    "# Show the schema of the DataFrame\n",
    "df.printSchema()"
   ]
  },
  {
   "cell_type": "code",
   "execution_count": 5,
   "id": "8b4b3c1e",
   "metadata": {
    "execution": {
     "iopub.execute_input": "2025-07-26T17:06:06.304473Z",
     "iopub.status.busy": "2025-07-26T17:06:06.304121Z",
     "iopub.status.idle": "2025-07-26T17:06:07.183114Z",
     "shell.execute_reply": "2025-07-26T17:06:07.181996Z"
    },
    "papermill": {
     "duration": 0.889371,
     "end_time": "2025-07-26T17:06:07.185270",
     "exception": false,
     "start_time": "2025-07-26T17:06:06.295899",
     "status": "completed"
    },
    "tags": []
   },
   "outputs": [
    {
     "name": "stdout",
     "output_type": "stream",
     "text": [
      "+--------+--------------------+---------------------+---------------+-------------+------------------+------------------+----------+------------------+------------------+------------------+------------+-----------+-----+-------+----------+------------+---------------------+------------+\n",
      "|VendorID|tpep_pickup_datetime|tpep_dropoff_datetime|passenger_count|trip_distance|  pickup_longitude|   pickup_latitude|RateCodeID|store_and_fwd_flag| dropoff_longitude|  dropoff_latitude|payment_type|fare_amount|extra|mta_tax|tip_amount|tolls_amount|improvement_surcharge|total_amount|\n",
      "+--------+--------------------+---------------------+---------------+-------------+------------------+------------------+----------+------------------+------------------+------------------+------------+-----------+-----+-------+----------+------------+---------------------+------------+\n",
      "|       2| 2015-01-15 19:05:39|  2015-01-15 19:23:42|              1|         1.59|  -73.993896484375|  40.7501106262207|         1|                 N|-73.97478485107422| 40.75061798095703|           1|       12.0|  1.0|    0.5|      3.25|         0.0|                  0.3|       17.05|\n",
      "|       1| 2015-01-10 20:33:38|  2015-01-10 20:53:28|              1|          3.3|-74.00164794921875|  40.7242431640625|         1|                 N|-73.99441528320312| 40.75910949707031|           1|       14.5|  0.5|    0.5|       2.0|         0.0|                  0.3|        17.8|\n",
      "|       1| 2015-01-10 20:33:38|  2015-01-10 20:43:41|              1|          1.8|-73.96334075927734| 40.80278778076172|         1|                 N|-73.95182037353516| 40.82441329956055|           2|        9.5|  0.5|    0.5|       0.0|         0.0|                  0.3|        10.8|\n",
      "|       1| 2015-01-10 20:33:39|  2015-01-10 20:35:31|              1|          0.5|-74.00908660888672| 40.71381759643555|         1|                 N|-74.00432586669922| 40.71998596191406|           2|        3.5|  0.5|    0.5|       0.0|         0.0|                  0.3|         4.8|\n",
      "|       1| 2015-01-10 20:33:39|  2015-01-10 20:52:58|              1|          3.0|-73.97117614746094|40.762428283691406|         1|                 N|-74.00418090820312|40.742652893066406|           2|       15.0|  0.5|    0.5|       0.0|         0.0|                  0.3|        16.3|\n",
      "+--------+--------------------+---------------------+---------------+-------------+------------------+------------------+----------+------------------+------------------+------------------+------------+-----------+-----+-------+----------+------------+---------------------+------------+\n",
      "only showing top 5 rows\n",
      "\n"
     ]
    }
   ],
   "source": [
    "# Display sample rows\n",
    "df.show(5)"
   ]
  },
  {
   "cell_type": "code",
   "execution_count": 6,
   "id": "3f8e3df5",
   "metadata": {
    "execution": {
     "iopub.execute_input": "2025-07-26T17:06:07.209464Z",
     "iopub.status.busy": "2025-07-26T17:06:07.209030Z",
     "iopub.status.idle": "2025-07-26T17:11:43.474047Z",
     "shell.execute_reply": "2025-07-26T17:11:43.473093Z"
    },
    "papermill": {
     "duration": 336.282183,
     "end_time": "2025-07-26T17:11:43.479004",
     "exception": false,
     "start_time": "2025-07-26T17:06:07.196821",
     "status": "completed"
    },
    "tags": []
   },
   "outputs": [
    {
     "name": "stderr",
     "output_type": "stream",
     "text": [
      "[Stage 9:========================================================>(56 + 1) / 57]\r"
     ]
    },
    {
     "name": "stdout",
     "output_type": "stream",
     "text": [
      "+-------+------------------+------------------+-----------------+-------------------+------------------+------------------+------------------+------------------+------------------+-------------------+------------------+------------------+--------------------+-----------------+------------------+---------------------+------------------+\n",
      "|summary|          VendorID|   passenger_count|    trip_distance|   pickup_longitude|   pickup_latitude|        RateCodeID|store_and_fwd_flag| dropoff_longitude|  dropoff_latitude|       payment_type|       fare_amount|             extra|             mta_tax|       tip_amount|      tolls_amount|improvement_surcharge|      total_amount|\n",
      "+-------+------------------+------------------+-----------------+-------------------+------------------+------------------+------------------+------------------+------------------+-------------------+------------------+------------------+--------------------+-----------------+------------------+---------------------+------------------+\n",
      "|  count|          47248845|          47248845|         47248845|           47248845|          47248845|          47248845|          47248845|          47248845|          47248845|           47248845|          47248845|          47248845|            47248845|         47248845|          47248845|             47248842|          47248845|\n",
      "|   mean| 1.529570490029968|1.6670397339871483|7.508417945877774|  -72.7645182845853|40.084704988038204|1.0385429739076162|              NULL|-72.82501122353682|40.118890625916094|  1.352482394014076|12.392189114675677|0.3243179554971131| 0.49770807286400326|1.794568086055874|0.2843674354367921|  0.29524661725664925|15.592732594300593|\n",
      "| stddev|0.4991248254615444|1.3220922307333782|6487.658339592023|   9.38182992791307| 5.168527613321493| 0.590242326712211|              NULL| 9.150215403289124|  5.04034529848593|0.49223868794941034| 78.61770040483957|0.5158948172922723|0.046723879829253176|574.7383884994606| 1.657184394696862| 0.038120798701722476| 580.1392733880709|\n",
      "|    min|                 1|                 0|       -3390583.8|-161.69866943359375|-77.03948974609375|                 1|                 N|-740.1666870117188|-77.03948974609375|                  1|            -957.6|             -79.0|                -1.0|           -220.8|            -99.99|                 -0.3|            -958.4|\n",
      "|    max|                 2|                 9|     1.90726288E7|  94.64386749267578|404.70001220703125|                99|                 Y|  85.2740249633789| 459.5333251953125|                  5|         429496.72|            999.99|                89.7|        3950588.8|           1450.09|                  0.3|         3950611.6|\n",
      "+-------+------------------+------------------+-----------------+-------------------+------------------+------------------+------------------+------------------+------------------+-------------------+------------------+------------------+--------------------+-----------------+------------------+---------------------+------------------+\n",
      "\n"
     ]
    },
    {
     "name": "stderr",
     "output_type": "stream",
     "text": [
      "                                                                                \r"
     ]
    }
   ],
   "source": [
    "df.describe().show()"
   ]
  },
  {
   "cell_type": "code",
   "execution_count": 7,
   "id": "abb5e305",
   "metadata": {
    "execution": {
     "iopub.execute_input": "2025-07-26T17:11:43.510725Z",
     "iopub.status.busy": "2025-07-26T17:11:43.509886Z",
     "iopub.status.idle": "2025-07-26T17:11:43.878742Z",
     "shell.execute_reply": "2025-07-26T17:11:43.877901Z"
    },
    "papermill": {
     "duration": 0.386979,
     "end_time": "2025-07-26T17:11:43.881000",
     "exception": false,
     "start_time": "2025-07-26T17:11:43.494021",
     "status": "completed"
    },
    "tags": []
   },
   "outputs": [
    {
     "name": "stdout",
     "output_type": "stream",
     "text": [
      "+--------+--------------------+---------------------+---------------+-------------+------------------+------------------+----------+------------------+------------------+------------------+------------+-----------+-----+-------+----------+------------+---------------------+------------+\n",
      "|VendorID|tpep_pickup_datetime|tpep_dropoff_datetime|passenger_count|trip_distance|  pickup_longitude|   pickup_latitude|RateCodeID|store_and_fwd_flag| dropoff_longitude|  dropoff_latitude|payment_type|fare_amount|extra|mta_tax|tip_amount|tolls_amount|improvement_surcharge|total_amount|\n",
      "+--------+--------------------+---------------------+---------------+-------------+------------------+------------------+----------+------------------+------------------+------------------+------------+-----------+-----+-------+----------+------------+---------------------+------------+\n",
      "|       2| 2015-01-15 19:05:39|  2015-01-15 19:23:42|              1|         1.59|  -73.993896484375|  40.7501106262207|         1|                 N|-73.97478485107422| 40.75061798095703|           1|       12.0|  1.0|    0.5|      3.25|         0.0|                  0.3|       17.05|\n",
      "|       1| 2015-01-10 20:33:38|  2015-01-10 20:53:28|              1|          3.3|-74.00164794921875|  40.7242431640625|         1|                 N|-73.99441528320312| 40.75910949707031|           1|       14.5|  0.5|    0.5|       2.0|         0.0|                  0.3|        17.8|\n",
      "|       1| 2015-01-10 20:33:38|  2015-01-10 20:43:41|              1|          1.8|-73.96334075927734| 40.80278778076172|         1|                 N|-73.95182037353516| 40.82441329956055|           2|        9.5|  0.5|    0.5|       0.0|         0.0|                  0.3|        10.8|\n",
      "|       1| 2015-01-10 20:33:39|  2015-01-10 20:35:31|              1|          0.5|-74.00908660888672| 40.71381759643555|         1|                 N|-74.00432586669922| 40.71998596191406|           2|        3.5|  0.5|    0.5|       0.0|         0.0|                  0.3|         4.8|\n",
      "|       1| 2015-01-10 20:33:39|  2015-01-10 20:52:58|              1|          3.0|-73.97117614746094|40.762428283691406|         1|                 N|-74.00418090820312|40.742652893066406|           2|       15.0|  0.5|    0.5|       0.0|         0.0|                  0.3|        16.3|\n",
      "|       1| 2015-01-10 20:33:39|  2015-01-10 20:53:52|              1|          9.0|-73.87437438964844|  40.7740478515625|         1|                 N|-73.98697662353516| 40.75819396972656|           1|       27.0|  0.5|    0.5|       6.7|        5.33|                  0.3|       40.33|\n",
      "|       1| 2015-01-10 20:33:39|  2015-01-10 20:58:31|              1|          2.2| -73.9832763671875|40.726009368896484|         1|                 N|-73.99246978759766|  40.7496337890625|           2|       14.0|  0.5|    0.5|       0.0|         0.0|                  0.3|        15.3|\n",
      "|       1| 2015-01-10 20:33:39|  2015-01-10 20:42:20|              3|          0.8| -74.0026626586914|  40.7341423034668|         1|                 N|-73.99501037597656| 40.72632598876953|           1|        7.0|  0.5|    0.5|      1.66|         0.0|                  0.3|        9.96|\n",
      "|       1| 2015-01-10 20:33:39|  2015-01-10 21:11:35|              3|         18.2|-73.78304290771484| 40.64435577392578|         2|                 N|-73.98759460449219| 40.75935745239258|           2|       52.0|  0.0|    0.5|       0.0|        5.33|                  0.3|       58.13|\n",
      "|       1| 2015-01-10 20:33:40|  2015-01-10 20:40:44|              2|          0.9|-73.98558807373047|40.767948150634766|         1|                 N|-73.98591613769531| 40.75936508178711|           1|        6.5|  0.5|    0.5|      1.55|         0.0|                  0.3|        9.35|\n",
      "|       1| 2015-01-10 20:33:40|  2015-01-10 20:41:39|              1|          0.9|-73.98861694335938| 40.72310256958008|         1|                 N|   -74.00439453125| 40.72858428955078|           1|        7.0|  0.5|    0.5|      1.66|         0.0|                  0.3|        9.96|\n",
      "|       1| 2015-01-10 20:33:41|  2015-01-10 20:43:26|              1|          1.1|-73.99378204345703| 40.75141906738281|         1|                 N| -73.9674072265625| 40.75721740722656|           1|        7.5|  0.5|    0.5|       1.0|         0.0|                  0.3|         9.8|\n",
      "|       1| 2015-01-10 20:33:41|  2015-01-10 20:35:23|              1|          0.3|-74.00836181640625|40.704376220703125|         1|                 N|-74.00977325439453|40.707725524902344|           2|        3.0|  0.5|    0.5|       0.0|         0.0|                  0.3|         4.3|\n",
      "|       1| 2015-01-10 20:33:41|  2015-01-10 21:03:04|              1|          3.1|-73.97394561767578| 40.76044845581055|         1|                 N|-73.99734497070312| 40.73521041870117|           1|       19.0|  0.5|    0.5|       3.0|         0.0|                  0.3|        23.3|\n",
      "|       1| 2015-01-10 20:33:41|  2015-01-10 20:39:23|              1|          1.1|-74.00672149658203| 40.73177719116211|         1|                 N| -73.9952163696289| 40.73989486694336|           2|        6.0|  0.5|    0.5|       0.0|         0.0|                  0.3|         7.3|\n",
      "|       2| 2015-01-15 19:05:39|  2015-01-15 19:32:00|              1|         2.38|-73.97642517089844|40.739810943603516|         1|                 N|-73.98397827148438| 40.75788879394531|           1|       16.5|  1.0|    0.5|      4.38|         0.0|                  0.3|       22.68|\n",
      "|       2| 2015-01-15 19:05:40|  2015-01-15 19:21:00|              5|         2.83|-73.96870422363281| 40.75424575805664|         1|                 N|-73.95512390136719| 40.78685760498047|           2|       12.5|  1.0|    0.5|       0.0|         0.0|                  0.3|        14.3|\n",
      "|       2| 2015-01-15 19:05:40|  2015-01-15 19:28:18|              5|         8.33| -73.8630599975586| 40.76958084106445|         1|                 N|-73.95271301269531| 40.78578186035156|           1|       26.0|  1.0|    0.5|      8.08|        5.33|                  0.3|       41.21|\n",
      "|       2| 2015-01-15 19:05:41|  2015-01-15 19:20:36|              1|         2.37|-73.94554138183594|40.779422760009766|         1|                 N|-73.98085021972656| 40.78608322143555|           1|       11.5|  1.0|    0.5|       0.0|         0.0|                  0.3|        13.3|\n",
      "|       2| 2015-01-15 19:05:41|  2015-01-15 19:20:22|              2|         7.13|-73.87445831298828|40.774009704589844|         1|                 N|-73.95237731933594|40.718589782714844|           1|       21.5|  1.0|    0.5|       4.5|         0.0|                  0.3|        27.8|\n",
      "+--------+--------------------+---------------------+---------------+-------------+------------------+------------------+----------+------------------+------------------+------------------+------------+-----------+-----+-------+----------+------------+---------------------+------------+\n",
      "only showing top 20 rows\n",
      "\n"
     ]
    }
   ],
   "source": [
    "df.show()"
   ]
  },
  {
   "cell_type": "markdown",
   "id": "a5a5c648",
   "metadata": {
    "papermill": {
     "duration": 0.008732,
     "end_time": "2025-07-26T17:11:43.898754",
     "exception": false,
     "start_time": "2025-07-26T17:11:43.890022",
     "status": "completed"
    },
    "tags": []
   },
   "source": [
    "# 3. Preprocessing"
   ]
  },
  {
   "cell_type": "code",
   "execution_count": 8,
   "id": "d171a025",
   "metadata": {
    "execution": {
     "iopub.execute_input": "2025-07-26T17:11:43.917534Z",
     "iopub.status.busy": "2025-07-26T17:11:43.917179Z",
     "iopub.status.idle": "2025-07-26T17:11:43.937826Z",
     "shell.execute_reply": "2025-07-26T17:11:43.937072Z"
    },
    "papermill": {
     "duration": 0.032146,
     "end_time": "2025-07-26T17:11:43.939559",
     "exception": false,
     "start_time": "2025-07-26T17:11:43.907413",
     "status": "completed"
    },
    "tags": []
   },
   "outputs": [],
   "source": [
    "df = df.withColumnRenamed('tpep_pickup_datetime', 'pickup_datetime')\n",
    "df = df.withColumnRenamed('tpep_dropoff_datetime', 'dropoff_datetime')"
   ]
  },
  {
   "cell_type": "code",
   "execution_count": 9,
   "id": "33ba080d",
   "metadata": {
    "execution": {
     "iopub.execute_input": "2025-07-26T17:11:43.959635Z",
     "iopub.status.busy": "2025-07-26T17:11:43.958723Z",
     "iopub.status.idle": "2025-07-26T17:11:44.028724Z",
     "shell.execute_reply": "2025-07-26T17:11:44.027787Z"
    },
    "papermill": {
     "duration": 0.081798,
     "end_time": "2025-07-26T17:11:44.030699",
     "exception": false,
     "start_time": "2025-07-26T17:11:43.948901",
     "status": "completed"
    },
    "tags": []
   },
   "outputs": [
    {
     "data": {
      "text/plain": [
       "DataFrame[VendorID: int, pickup_datetime: timestamp, dropoff_datetime: timestamp, passenger_count: int, trip_distance: double, pickup_longitude: double, pickup_latitude: double, RateCodeID: int, store_and_fwd_flag: string, dropoff_longitude: double, dropoff_latitude: double, payment_type: int, fare_amount: double, extra: double, mta_tax: double, tip_amount: double, tolls_amount: double, improvement_surcharge: double, total_amount: double]"
      ]
     },
     "execution_count": 9,
     "metadata": {},
     "output_type": "execute_result"
    }
   ],
   "source": [
    "df.na.drop()"
   ]
  },
  {
   "cell_type": "code",
   "execution_count": 10,
   "id": "f077cbfb",
   "metadata": {
    "execution": {
     "iopub.execute_input": "2025-07-26T17:11:44.063115Z",
     "iopub.status.busy": "2025-07-26T17:11:44.062721Z",
     "iopub.status.idle": "2025-07-26T17:11:44.083072Z",
     "shell.execute_reply": "2025-07-26T17:11:44.082180Z"
    },
    "papermill": {
     "duration": 0.038844,
     "end_time": "2025-07-26T17:11:44.085095",
     "exception": false,
     "start_time": "2025-07-26T17:11:44.046251",
     "status": "completed"
    },
    "tags": []
   },
   "outputs": [
    {
     "data": {
      "text/plain": [
       "DataFrame[VendorID: int, pickup_datetime: timestamp, dropoff_datetime: timestamp, passenger_count: int, trip_distance: double, pickup_longitude: double, pickup_latitude: double, RateCodeID: int, store_and_fwd_flag: string, dropoff_longitude: double, dropoff_latitude: double, payment_type: int, fare_amount: double, extra: double, mta_tax: double, tip_amount: double, tolls_amount: double, improvement_surcharge: double, total_amount: double]"
      ]
     },
     "execution_count": 10,
     "metadata": {},
     "output_type": "execute_result"
    }
   ],
   "source": [
    "df.dropDuplicates()"
   ]
  },
  {
   "cell_type": "code",
   "execution_count": 11,
   "id": "b7f9b81f",
   "metadata": {
    "execution": {
     "iopub.execute_input": "2025-07-26T17:11:44.113391Z",
     "iopub.status.busy": "2025-07-26T17:11:44.112865Z",
     "iopub.status.idle": "2025-07-26T17:11:44.175491Z",
     "shell.execute_reply": "2025-07-26T17:11:44.174540Z"
    },
    "papermill": {
     "duration": 0.076567,
     "end_time": "2025-07-26T17:11:44.177980",
     "exception": false,
     "start_time": "2025-07-26T17:11:44.101413",
     "status": "completed"
    },
    "tags": []
   },
   "outputs": [],
   "source": [
    "df = df.filter(col(\"trip_distance\") > 0)\n",
    "df = df.filter((df.fare_amount > 0) & (df.fare_amount < 250))\n",
    "df = df.filter((df.passenger_count > 0) & (df.passenger_count <= 6))"
   ]
  },
  {
   "cell_type": "code",
   "execution_count": 12,
   "id": "8a5c3bc0",
   "metadata": {
    "execution": {
     "iopub.execute_input": "2025-07-26T17:11:44.197778Z",
     "iopub.status.busy": "2025-07-26T17:11:44.197366Z",
     "iopub.status.idle": "2025-07-26T17:11:44.321144Z",
     "shell.execute_reply": "2025-07-26T17:11:44.320093Z"
    },
    "papermill": {
     "duration": 0.13575,
     "end_time": "2025-07-26T17:11:44.322885",
     "exception": false,
     "start_time": "2025-07-26T17:11:44.187135",
     "status": "completed"
    },
    "tags": []
   },
   "outputs": [],
   "source": [
    "# Extract relevant datetime features from 'pickup_datetime' for modeling\n",
    "df = df.withColumn(\"hour\", hour(col(\"pickup_datetime\")))\n",
    "df = df.withColumn(\"day_of_week\", dayofweek(col(\"pickup_datetime\")))  # 1=niedziela, 7=sobota\n",
    "df = df.withColumn(\"month\", month(col(\"pickup_datetime\")))\n",
    "df = df.withColumn(\"is_weekend\", when(col(\"day_of_week\").isin([1, 7]), 1).otherwise(0))\n",
    "df = df.withColumn(\"is_night\", when((col(\"hour\") < 6) | (col(\"hour\") >= 22), 1).otherwise(0))"
   ]
  },
  {
   "cell_type": "markdown",
   "id": "b3ca3c71",
   "metadata": {
    "papermill": {
     "duration": 0.009948,
     "end_time": "2025-07-26T17:11:44.342358",
     "exception": false,
     "start_time": "2025-07-26T17:11:44.332410",
     "status": "completed"
    },
    "tags": []
   },
   "source": [
    "# 4. Analysing"
   ]
  },
  {
   "cell_type": "code",
   "execution_count": 13,
   "id": "a065e650",
   "metadata": {
    "execution": {
     "iopub.execute_input": "2025-07-26T17:11:44.362129Z",
     "iopub.status.busy": "2025-07-26T17:11:44.361813Z",
     "iopub.status.idle": "2025-07-26T17:11:44.366757Z",
     "shell.execute_reply": "2025-07-26T17:11:44.365719Z"
    },
    "papermill": {
     "duration": 0.016638,
     "end_time": "2025-07-26T17:11:44.368342",
     "exception": false,
     "start_time": "2025-07-26T17:11:44.351704",
     "status": "completed"
    },
    "tags": []
   },
   "outputs": [],
   "source": [
    "# Select only relevant columns\n",
    "feature_cols = [\"month\", \"day_of_week\", \"is_weekend\", \"hour\", \"is_night\", \"passenger_count\",\n",
    "                \"RateCodeID\", \"trip_distance\", \"pickup_longitude\", \"pickup_latitude\", \n",
    "                \"dropoff_longitude\", \"dropoff_latitude\"]\n",
    "\n",
    "label = \"fare_amount\""
   ]
  },
  {
   "cell_type": "code",
   "execution_count": 14,
   "id": "f24b88c3",
   "metadata": {
    "execution": {
     "iopub.execute_input": "2025-07-26T17:11:44.388751Z",
     "iopub.status.busy": "2025-07-26T17:11:44.387793Z",
     "iopub.status.idle": "2025-07-26T17:11:44.437925Z",
     "shell.execute_reply": "2025-07-26T17:11:44.436840Z"
    },
    "papermill": {
     "duration": 0.062264,
     "end_time": "2025-07-26T17:11:44.439780",
     "exception": false,
     "start_time": "2025-07-26T17:11:44.377516",
     "status": "completed"
    },
    "tags": []
   },
   "outputs": [],
   "source": [
    "# Assemble features\n",
    "assembler = VectorAssembler(inputCols=feature_cols, outputCol=\"features\")"
   ]
  },
  {
   "cell_type": "code",
   "execution_count": 15,
   "id": "2371d0c7",
   "metadata": {
    "execution": {
     "iopub.execute_input": "2025-07-26T17:11:44.459960Z",
     "iopub.status.busy": "2025-07-26T17:11:44.459612Z",
     "iopub.status.idle": "2025-07-26T17:11:44.463593Z",
     "shell.execute_reply": "2025-07-26T17:11:44.462723Z"
    },
    "papermill": {
     "duration": 0.016118,
     "end_time": "2025-07-26T17:11:44.465098",
     "exception": false,
     "start_time": "2025-07-26T17:11:44.448980",
     "status": "completed"
    },
    "tags": []
   },
   "outputs": [],
   "source": [
    "# Scaller features\n",
    "#scaler = StandardScaler(inputCol=\"features\", outputCol=\"features\", withStd=True, withMean=False)"
   ]
  },
  {
   "cell_type": "code",
   "execution_count": 16,
   "id": "e728ec68",
   "metadata": {
    "execution": {
     "iopub.execute_input": "2025-07-26T17:11:44.559575Z",
     "iopub.status.busy": "2025-07-26T17:11:44.558784Z",
     "iopub.status.idle": "2025-07-26T17:11:44.670920Z",
     "shell.execute_reply": "2025-07-26T17:11:44.669907Z"
    },
    "papermill": {
     "duration": 0.1984,
     "end_time": "2025-07-26T17:11:44.672612",
     "exception": false,
     "start_time": "2025-07-26T17:11:44.474212",
     "status": "completed"
    },
    "tags": []
   },
   "outputs": [],
   "source": [
    "# Linear Regression model\n",
    "lr = LinearRegression(featuresCol=\"features\", labelCol=label)"
   ]
  },
  {
   "cell_type": "code",
   "execution_count": 17,
   "id": "a8458ebb",
   "metadata": {
    "execution": {
     "iopub.execute_input": "2025-07-26T17:11:44.692154Z",
     "iopub.status.busy": "2025-07-26T17:11:44.691807Z",
     "iopub.status.idle": "2025-07-26T17:11:44.696255Z",
     "shell.execute_reply": "2025-07-26T17:11:44.695504Z"
    },
    "papermill": {
     "duration": 0.016118,
     "end_time": "2025-07-26T17:11:44.697956",
     "exception": false,
     "start_time": "2025-07-26T17:11:44.681838",
     "status": "completed"
    },
    "tags": []
   },
   "outputs": [],
   "source": [
    "pipeline = Pipeline(stages=[assembler, lr])"
   ]
  },
  {
   "cell_type": "code",
   "execution_count": 18,
   "id": "5bd245b5",
   "metadata": {
    "execution": {
     "iopub.execute_input": "2025-07-26T17:11:44.717958Z",
     "iopub.status.busy": "2025-07-26T17:11:44.717304Z",
     "iopub.status.idle": "2025-07-26T17:11:44.728197Z",
     "shell.execute_reply": "2025-07-26T17:11:44.727155Z"
    },
    "papermill": {
     "duration": 0.023287,
     "end_time": "2025-07-26T17:11:44.730403",
     "exception": false,
     "start_time": "2025-07-26T17:11:44.707116",
     "status": "completed"
    },
    "tags": []
   },
   "outputs": [],
   "source": [
    "df_sample = df.sample(False, 0.01, seed=21)"
   ]
  },
  {
   "cell_type": "code",
   "execution_count": 19,
   "id": "a9ec7bda",
   "metadata": {
    "execution": {
     "iopub.execute_input": "2025-07-26T17:11:44.752595Z",
     "iopub.status.busy": "2025-07-26T17:11:44.751665Z",
     "iopub.status.idle": "2025-07-26T17:16:43.212603Z",
     "shell.execute_reply": "2025-07-26T17:16:43.211652Z"
    },
    "papermill": {
     "duration": 298.473083,
     "end_time": "2025-07-26T17:16:43.214741",
     "exception": false,
     "start_time": "2025-07-26T17:11:44.741658",
     "status": "completed"
    },
    "tags": []
   },
   "outputs": [
    {
     "name": "stderr",
     "output_type": "stream",
     "text": [
      "                                                                                \r"
     ]
    }
   ],
   "source": [
    "# Split data into training and testing sets\n",
    "train_data, test_data = df_sample.randomSplit([0.8, 0.2], seed=21)\n",
    "\n",
    "# Train the model\n",
    "model = pipeline.fit(train_data)\n",
    "predictions = model.transform(test_data)"
   ]
  },
  {
   "cell_type": "code",
   "execution_count": 20,
   "id": "a723a4f7",
   "metadata": {
    "execution": {
     "iopub.execute_input": "2025-07-26T17:16:43.251688Z",
     "iopub.status.busy": "2025-07-26T17:16:43.251248Z",
     "iopub.status.idle": "2025-07-26T17:19:08.738088Z",
     "shell.execute_reply": "2025-07-26T17:19:08.737109Z"
    },
    "papermill": {
     "duration": 145.504514,
     "end_time": "2025-07-26T17:19:08.741388",
     "exception": false,
     "start_time": "2025-07-26T17:16:43.236874",
     "status": "completed"
    },
    "tags": []
   },
   "outputs": [
    {
     "name": "stderr",
     "output_type": "stream",
     "text": [
      "[Stage 17:=======================================================>(56 + 1) / 57]\r"
     ]
    },
    {
     "name": "stdout",
     "output_type": "stream",
     "text": [
      "RMSE: 3.29\n"
     ]
    },
    {
     "name": "stderr",
     "output_type": "stream",
     "text": [
      "                                                                                \r"
     ]
    }
   ],
   "source": [
    "evaluator = RegressionEvaluator(labelCol=label, predictionCol=\"prediction\", metricName=\"rmse\")\n",
    "rmse = evaluator.evaluate(predictions)\n",
    "print(f\"RMSE: {rmse:.2f}\")"
   ]
  },
  {
   "cell_type": "code",
   "execution_count": null,
   "id": "cbf78239",
   "metadata": {
    "papermill": {
     "duration": 0.01491,
     "end_time": "2025-07-26T17:19:08.778850",
     "exception": false,
     "start_time": "2025-07-26T17:19:08.763940",
     "status": "completed"
    },
    "tags": []
   },
   "outputs": [],
   "source": []
  }
 ],
 "metadata": {
  "kaggle": {
   "accelerator": "none",
   "dataSources": [
    {
     "datasetId": 1777799,
     "sourceId": 2905525,
     "sourceType": "datasetVersion"
    }
   ],
   "dockerImageVersionId": 31089,
   "isGpuEnabled": false,
   "isInternetEnabled": true,
   "language": "python",
   "sourceType": "notebook"
  },
  "kernelspec": {
   "display_name": "Python 3",
   "language": "python",
   "name": "python3"
  },
  "language_info": {
   "codemirror_mode": {
    "name": "ipython",
    "version": 3
   },
   "file_extension": ".py",
   "mimetype": "text/x-python",
   "name": "python",
   "nbconvert_exporter": "python",
   "pygments_lexer": "ipython3",
   "version": "3.11.13"
  },
  "papermill": {
   "default_parameters": {},
   "duration": 971.256076,
   "end_time": "2025-07-26T17:19:11.416290",
   "environment_variables": {},
   "exception": null,
   "input_path": "__notebook__.ipynb",
   "output_path": "__notebook__.ipynb",
   "parameters": {},
   "start_time": "2025-07-26T17:03:00.160214",
   "version": "2.6.0"
  }
 },
 "nbformat": 4,
 "nbformat_minor": 5
}
